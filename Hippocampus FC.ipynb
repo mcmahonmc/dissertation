{
 "cells": [
  {
   "cell_type": "markdown",
   "metadata": {},
   "source": [
    "# Hippocampus FC <a id='bct-graph-metrics'></a>"
   ]
  },
  {
   "cell_type": "code",
   "execution_count": 41,
   "metadata": {},
   "outputs": [],
   "source": [
    "import pandas as pd\n",
    "import numpy as np\n",
    "import os\n",
    "import glob\n",
    "import matplotlib.pyplot as plt\n",
    "import seaborn as sns\n",
    "import nibabel as nib  # load the beta maps in python\n",
    "from nilearn import plotting  # plot nifti images\n",
    "from bct import nbs\n",
    "from scipy.io import savemat\n",
    "from mne.viz import plot_connectivity_circle"
   ]
  },
  {
   "cell_type": "code",
   "execution_count": 42,
   "metadata": {},
   "outputs": [],
   "source": [
    "data_dir = '/Volumes/psybrain/ADM/derivatives'\n",
    "results_dir = '/Volumes/schnyer/Megan/adm_mem-fc/analysis/nbs/withhc/stats/'\n",
    "nibs_dir='/Volumes/psybrain/ADM/derivatives/nibs/nibetaseries'\n",
    "\n",
    "tasks = ['MemMatch1', 'MemMatch2', 'MemMatch3']\n",
    "trial_types = ['cue', 'match', 'mismatch']\n",
    "\n",
    "hc_coords = [-21,-9,-15]\n",
    "\n",
    "atlas_file='/Volumes/psybrain/ADM/derivatives/nibs/power264-master/power264MNI.nii.gz'\n",
    "atlas_lut='/Volumes/psybrain/ADM/derivatives/nibs/power264_labels.tsv'"
   ]
  },
  {
   "cell_type": "code",
   "execution_count": 43,
   "metadata": {},
   "outputs": [
    {
     "data": {
      "text/plain": [
       "array(['30004', '30008', '30009', '30015', '30019', '30020', '30023',\n",
       "       '30040', '30057', '30064', '30066', '30069', '30074', '30085',\n",
       "       '30088', '30090', '30091', '30095', '30096', '30105', '30116',\n",
       "       '30118', '30119', '30128', '30181', '30217', '30227', '30236',\n",
       "       '30242', '30255', '30274', '30283', '30295', '30330', '30346',\n",
       "       '30376', '30395', '30400', '30403', '30412', '30426', '30432',\n",
       "       '30466', '30469', '30476', '30478', '30568', '30570', '30581',\n",
       "       '30584', '30588', '40160', '40170', '40175', '40288', '40351',\n",
       "       '40490', '40512', '40519', '40520', '40524', '40547', '40564',\n",
       "       '40615', '40619', '40624', '40638', '40649', '40650', '40656',\n",
       "       '40658', '40664', '40665', '40668', '40672', '40685', '40694',\n",
       "       '40720', '40738', '40743', '40750', '40773', '40778', '40796',\n",
       "       '40803', '40855', '40861', '40930', '40961', '40968'], dtype='<U5')"
      ]
     },
     "execution_count": 43,
     "metadata": {},
     "output_type": "execute_result"
    }
   ],
   "source": [
    "subjects = np.loadtxt(data_dir + '/nibs/subjects.txt', dtype=str)\n",
    "subjects"
   ]
  },
  {
   "cell_type": "code",
   "execution_count": 44,
   "metadata": {},
   "outputs": [
    {
     "name": "stdout",
     "output_type": "stream",
     "text": [
      "(265, 1)\n"
     ]
    },
    {
     "data": {
      "text/plain": [
       "array(['Uncertain', 'Sensory/somatomotor Hand',\n",
       "       'Sensory/somatomotor Mouth', 'Cingulo-opercular Task Control',\n",
       "       'Auditory', 'Default mode', 'Memory retrieval?',\n",
       "       'Ventral attention', 'Visual', 'Fronto-parietal Task Control',\n",
       "       'Salience', 'Subcortical', 'Cerebellar', 'Dorsal attention',\n",
       "       'HC Sherman'], dtype=object)"
      ]
     },
     "execution_count": 44,
     "metadata": {},
     "output_type": "execute_result"
    }
   ],
   "source": [
    "atlas = pd.read_csv(atlas_lut, sep='\\t').set_index('index')\n",
    "atlas = atlas.append({'regions': 'HC Sherman'}, ignore_index=True)\n",
    "print(atlas.shape)\n",
    "#remove nodes with low signal\n",
    "atlas=atlas.drop([3,9,183], axis=0)\n",
    "atlas = atlas.reset_index(drop=True)\n",
    "\n",
    "atlas.regions.unique()"
   ]
  },
  {
   "cell_type": "code",
   "execution_count": 45,
   "metadata": {},
   "outputs": [],
   "source": [
    "hc = atlas.loc[atlas['regions'].str.contains('HC')].index.tolist()\n",
    "dmn = atlas.loc[atlas['regions'].str.contains('Default')].index.tolist()\n",
    "mem = atlas.loc[atlas['regions'].str.contains('Memory')].index.tolist()\n",
    "fpn = atlas.loc[atlas['regions'].str.contains('Fronto-parietal')].index.tolist()\n",
    "\n",
    "dmn_hc = np.concatenate((dmn, hc))\n",
    "fpn_hc = np.concatenate((fpn, hc))\n",
    "mem_hc = np.concatenate((mem, hc))"
   ]
  },
  {
   "cell_type": "code",
   "execution_count": 46,
   "metadata": {},
   "outputs": [
    {
     "data": {
      "text/plain": [
       "(262, 1)"
      ]
     },
     "execution_count": 46,
     "metadata": {},
     "output_type": "execute_result"
    }
   ],
   "source": [
    "atlas.shape"
   ]
  },
  {
   "cell_type": "code",
   "execution_count": 47,
   "metadata": {},
   "outputs": [],
   "source": [
    "hc_labels = atlas['regions'].str.contains('HC')\n",
    "hc = atlas.loc[hc_labels].index.tolist()"
   ]
  },
  {
   "cell_type": "code",
   "execution_count": 53,
   "metadata": {},
   "outputs": [
    {
     "name": "stdout",
     "output_type": "stream",
     "text": [
      "88\n",
      "(264, 264, 88)\n"
     ]
    }
   ],
   "source": [
    "x = np.load('/Volumes/schnyer/Megan/adm_mem-fc/analysis/nbs/withhc/memmatch_fc_withhc_clean.npy', allow_pickle=True).flat[0]\n",
    "fc_subs = np.loadtxt('/Volumes/schnyer/Megan/adm_mem-fc/analysis/nbs/withhc/fcsubs.txt', dtype=str)\n",
    "print(len(fc_subs))\n",
    "print(x['cue'].shape)"
   ]
  },
  {
   "cell_type": "code",
   "execution_count": 62,
   "metadata": {},
   "outputs": [],
   "source": [
    "hc_dmn_fc = x['cue'][dmn_hc,-1].mean(axis=0)\n",
    "hc_fpn_fc = x['cue'][fpn_hc,-1].mean(axis=0)\n",
    "dmn_fpn_fc = x['cue'][dmn][:,fpn].mean(axis=0).mean(axis=0)\n",
    "dmn_fc = x['cue'][dmn][:,dmn].mean(axis=0).mean(axis=0)\n",
    "fpn_fc = x['cue'][fpn][:,fpn].mean(axis=0).mean(axis=0)"
   ]
  },
  {
   "cell_type": "code",
   "execution_count": 55,
   "metadata": {},
   "outputs": [
    {
     "data": {
      "text/plain": [
       "<matplotlib.legend.Legend at 0x12fe7b210>"
      ]
     },
     "execution_count": 55,
     "metadata": {},
     "output_type": "execute_result"
    },
    {
     "data": {
      "image/png": "[encoded data removed]",
      "text/plain": [
       "<Figure size 432x288 with 1 Axes>"
      ]
     },
     "metadata": {
      "needs_background": "light"
     },
     "output_type": "display_data"
    }
   ],
   "source": [
    "sns.distplot(hc_dmn_fc, label = 'HC-DMN')\n",
    "sns.distplot(hc_fpn_fc, label = 'HC-FPN')\n",
    "sns.distplot(hc_mem_fc, label = 'HC-FPN')\n",
    "plt.legend()"
   ]
  },
  {
   "cell_type": "code",
   "execution_count": 63,
   "metadata": {},
   "outputs": [],
   "source": [
    "pd.DataFrame({'subject': fc_subs, \n",
    "              'hc_dmn_fc': hc_dmn_fc, \n",
    "              'hc_fpn_fc': hc_fpn_fc,\n",
    "             'dmn_fpn_fc': dmn_fpn_fc,\n",
    "             'dmn_fc': dmn_fc,\n",
    "             'fpn_fc': fpn_fc}).to_csv('/Volumes/schnyer/Megan/adm_mem-fc/hc_dmn_fpn.csv', index=False)"
   ]
  },
  {
   "cell_type": "code",
   "execution_count": 64,
   "metadata": {},
   "outputs": [
    {
     "data": {
      "text/plain": [
       "(88,)"
      ]
     },
     "execution_count": 64,
     "metadata": {},
     "output_type": "execute_result"
    }
   ],
   "source": [
    "hc_dmn_fc.shape"
   ]
  },
  {
   "cell_type": "code",
   "execution_count": null,
   "metadata": {},
   "outputs": [],
   "source": []
  }
 ],
 "metadata": {
  "kernelspec": {
   "display_name": "Python 3 (ipykernel)",
   "language": "python",
   "name": "python3"
  },
  "language_info": {
   "codemirror_mode": {
    "name": "ipython",
    "version": 3
   },
   "file_extension": ".py",
   "mimetype": "text/x-python",
   "name": "python",
   "nbconvert_exporter": "python",
   "pygments_lexer": "ipython3",
   "version": "3.7.9"
  }
 },
 "nbformat": 4,
 "nbformat_minor": 4
}
