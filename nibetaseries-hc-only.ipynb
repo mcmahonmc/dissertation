version https://git-lfs.github.com/spec/v1
oid sha256:9d3abfd24c1ac56b153e17bfb86775158216e71ffde3d9776c17b71fdd6c1a97
size 3617537
