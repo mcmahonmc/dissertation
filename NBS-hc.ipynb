{
 "cells": [
  {
   "cell_type": "markdown",
   "metadata": {},
   "source": [
    "# NBS <a id='network-based-statistic'></a>\n",
    "\n",
    "\n",
    "    '''\n",
    "    Performs the NBS for populations X and Y for a t-statistic threshold of\n",
    "    alpha.\n",
    "    Parameters\n",
    "    ----------\n",
    "    x : NxNxP np.ndarray\n",
    "        matrix representing the first population with P subjects. must be\n",
    "        symmetric.\n",
    "    y : NxNxQ np.ndarray\n",
    "        matrix representing the second population with Q subjects. Q need not\n",
    "        equal P. must be symmetric.\n",
    "    thresh : float\n",
    "        minimum t-value used as threshold\n",
    "    k : int\n",
    "        number of permutations used to estimate the empirical null \n",
    "        distribution\n",
    "    tail : {'left', 'right', 'both'}\n",
    "        enables specification of particular alternative hypothesis\n",
    "        'left' : mean population of X < mean population of Y\n",
    "        'right' : mean population of Y < mean population of X\n",
    "        'both' : means are unequal (default)\n",
    "    paired : bool\n",
    "        use paired sample t-test instead of population t-test. requires both\n",
    "        subject populations to have equal N. default value = False\n",
    "    verbose : bool\n",
    "        print some extra information each iteration. defaults value = False\n",
    "    seed : hashable, optional\n",
    "        If None (default), use the np.random's global random state to generate random numbers.\n",
    "        Otherwise, use a new np.random.RandomState instance seeded with the given value."
   ]
  },
  {
   "cell_type": "code",
   "execution_count": 3,
   "metadata": {},
   "outputs": [
    {
     "name": "stderr",
     "output_type": "stream",
     "text": [
      "/usr/local/lib/python3.7/site-packages/nilearn/datasets/__init__.py:96: FutureWarning: Fetchers from the nilearn.datasets module will be updated in version 0.9 to return python strings instead of bytes and Pandas dataframes instead of Numpy arrays.\n",
      "  \"Numpy arrays.\", FutureWarning)\n"
     ]
    }
   ],
   "source": [
    "import pandas as pd\n",
    "import numpy as np\n",
    "import os\n",
    "import glob\n",
    "import matplotlib.pyplot as plt\n",
    "import seaborn as sns\n",
    "import nibabel as nib  # load the beta maps in python\n",
    "from nilearn import plotting  # plot nifti images\n",
    "from bct import nbs\n",
    "from scipy.io import savemat\n",
    "from mne.viz import plot_connectivity_circle"
   ]
  },
  {
   "cell_type": "code",
   "execution_count": 4,
   "metadata": {},
   "outputs": [],
   "source": [
    "data_dir = '/Volumes/psybrain/ADM/derivatives'\n",
    "results_dir = '/Volumes/schnyer/Megan/adm_mem-fc/analysis/withhc/stats/'\n",
    "nibs_dir='/Volumes/psybrain/ADM/derivatives/nibs/nibetaseries/with_hc'\n",
    "\n",
    "tasks = ['MemMatch1', 'MemMatch2', 'MemMatch3']\n",
    "trial_types = ['cue', 'match', 'mismatch']\n",
    "\n",
    "atlas_file='/Volumes/psybrain/ADM/derivatives/nibs/power264-master/power264MNI.nii.gz'\n",
    "atlas_lut='/Volumes/psybrain/ADM/derivatives/nibs/power264_labels.tsv'"
   ]
  },
  {
   "cell_type": "code",
   "execution_count": 6,
   "metadata": {},
   "outputs": [
    {
     "data": {
      "text/plain": [
       "array(['Uncertain', 'Sensory/somatomotor Hand',\n",
       "       'Sensory/somatomotor Mouth', 'Cingulo-opercular Task Control',\n",
       "       'Auditory', 'Default mode', 'Memory retrieval?',\n",
       "       'Ventral attention', 'Visual', 'Fronto-parietal Task Control',\n",
       "       'Salience', 'Subcortical', 'Cerebellar', 'Dorsal attention',\n",
       "       'L Anterior Hippocampus', 'R Anterior Hippocampus'], dtype=object)"
      ]
     },
     "execution_count": 6,
     "metadata": {},
     "output_type": "execute_result"
    }
   ],
   "source": [
    "atlas = pd.read_csv(atlas_lut, sep='\\t').set_index('index')\n",
    "atlas = atlas.append({'regions': 'L Anterior Hippocampus'}, ignore_index=True)\n",
    "atlas = atlas.append({'regions': 'R Anterior Hippocampus'}, ignore_index=True)\n",
    "atlas.regions.unique()"
   ]
  },
  {
   "cell_type": "code",
   "execution_count": 7,
   "metadata": {},
   "outputs": [],
   "source": [
    "from nilearn import datasets\n",
    "\n",
    "power = datasets.fetch_coords_power_2011()\n",
    "coords = np.vstack((power.rois['x'], power.rois['y'], power.rois['z'])).T"
   ]
  },
  {
   "cell_type": "code",
   "execution_count": 8,
   "metadata": {},
   "outputs": [],
   "source": [
    "dmn = atlas.loc[atlas['regions'].str.contains('Default|Hippocampus')].index.tolist()\n",
    "mem = atlas.loc[atlas['regions'].str.contains('Memory|Hippocampus')].index.tolist()\n",
    "fpn = atlas.loc[atlas['regions'].str.contains('Fronto-parietal')].index.tolist()\n",
    "fpn_hc = atlas.loc[atlas['regions'].str.contains('Fronto-parietal|Hippocampus')].index.tolist()\n",
    "dmn_fpn = np.concatenate((dmn, fpn))\n",
    "dmn_fpn_mem = np.concatenate((dmn_fpn, mem))\n",
    "dmn_mem = np.concatenate((dmn, mem))\n",
    "fpn_mem = np.concatenate((fpn, mem))"
   ]
  },
  {
   "cell_type": "code",
   "execution_count": null,
   "metadata": {},
   "outputs": [],
   "source": []
  }
 ],
 "metadata": {
  "kernelspec": {
   "display_name": "Python 3 (ipykernel)",
   "language": "python",
   "name": "python3"
  },
  "language_info": {
   "codemirror_mode": {
    "name": "ipython",
    "version": 3
   },
   "file_extension": ".py",
   "mimetype": "text/x-python",
   "name": "python",
   "nbconvert_exporter": "python",
   "pygments_lexer": "ipython3",
   "version": "3.7.9"
  }
 },
 "nbformat": 4,
 "nbformat_minor": 4
}
